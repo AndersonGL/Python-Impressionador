{
 "cells": [
  {
   "cell_type": "markdown",
   "id": "6d9e9df9",
   "metadata": {},
   "source": [
    "# Condições no Python"
   ]
  },
  {
   "cell_type": "markdown",
   "id": "96544006",
   "metadata": {},
   "source": [
    "### Estrutura IF\n"
   ]
  },
  {
   "cell_type": "code",
   "execution_count": 81,
   "id": "01fd542c",
   "metadata": {},
   "outputs": [
    {
     "name": "stdout",
     "output_type": "stream",
     "text": [
      "Batemos a meta de vendas de Iphone, vendemos 650000 unidade\n"
     ]
    }
   ],
   "source": [
    "meta = 50000\n",
    "qtde_vendida = 650000\n",
    "\n",
    "if qtde_vendida > meta:\n",
    "  print('Batemos a meta de vendas de Iphone, vendemos {} unidade'.format(qtde_vendida))\n",
    "\n",
    "\n",
    "\n"
   ]
  },
  {
   "cell_type": "markdown",
   "id": "6a0eb701",
   "metadata": {},
   "source": [
    "### Utilizando o Else"
   ]
  },
  {
   "cell_type": "code",
   "execution_count": 82,
   "id": "a5c1a8be",
   "metadata": {},
   "outputs": [
    {
     "name": "stdout",
     "output_type": "stream",
     "text": [
      "Infelismente não batemos a meta, vendemos6500 unidades. A meta era de 50000 unidades\n"
     ]
    }
   ],
   "source": [
    "meta = 50000\n",
    "qtde_vendida = 6500\n",
    "\n",
    "if qtde_vendida > meta:\n",
    "  print('Batemos a meta de vendas de Iphone, vendemos {} unidade'.format(qtde_vendida))\n",
    "else:\n",
    "  print('Infelismente não batemos a meta, vendemos{} unidades. A meta era de {} unidades'.format(qtde_vendida, meta))  "
   ]
  },
  {
   "cell_type": "markdown",
   "id": "c4c6f8eb",
   "metadata": {},
   "source": [
    "### Blocos e Indentação - If dentro de If"
   ]
  },
  {
   "cell_type": "code",
   "execution_count": 83,
   "id": "822c44a7",
   "metadata": {},
   "outputs": [
    {
     "name": "stdout",
     "output_type": "stream",
     "text": [
      "A taxa foi de 0.02\n"
     ]
    }
   ],
   "source": [
    "meta = 0.05\n",
    "taxa = 0\n",
    "rendimento = 0.10\n",
    "\n",
    "if rendimento > meta: \n",
    "  if rendimento > 0.20:\n",
    "    taxa = 0.04\n",
    "    print('A taxa foi de {}'.format(taxa))\n",
    "  else:\n",
    "    taxa = 0.02\n",
    "    print('A taxa foi de {}'.format(taxa))\n",
    "else:\n",
    "  taxa = 0\n",
    "  print('A taxa foi de {}'.format (taxa))\n",
    "\n",
    "  "
   ]
  },
  {
   "cell_type": "markdown",
   "id": "a4802b74",
   "metadata": {},
   "source": [
    "### Utilizando o Elif"
   ]
  },
  {
   "cell_type": "code",
   "execution_count": 84,
   "id": "dc73053e",
   "metadata": {},
   "outputs": [
    {
     "name": "stdout",
     "output_type": "stream",
     "text": [
      "Ganhou 750.0 de bônus\n"
     ]
    }
   ],
   "source": [
    "meta = 20000\n",
    "vendas = 25000\n",
    "\n",
    "if vendas < meta:\n",
    "  print('Não ganhou bônus')\n",
    "\n",
    "elif vendas > (meta * 2):\n",
    "  bonus = 0.07 * vendas\n",
    "  print('Ganhou {} de bônus'.format(bonus))\n",
    "\n",
    "else:\n",
    "  bonus = 0.03 * vendas\n",
    "  print('Ganhou {} de bônus'.format(bonus))\n",
    "\n"
   ]
  },
  {
   "cell_type": "markdown",
   "id": "e17d0a82",
   "metadata": {},
   "source": [
    "### Comparadores"
   ]
  },
  {
   "cell_type": "markdown",
   "id": "4a34d12d",
   "metadata": {},
   "source": [
    "==   igual<br>\n",
    "!=   diferente<br>\n",
    ">    maior que (>= maior ou igual)<br>\n",
    "<    menor que (<= menor ou igual)<br>\n",
    "in   texto existe dentro de outro texto<br>\n",
    "not  verifica o contrário da comparação<br>"
   ]
  },
  {
   "cell_type": "code",
   "execution_count": 85,
   "id": "1ef180cd",
   "metadata": {},
   "outputs": [
    {
     "name": "stdout",
     "output_type": "stream",
     "text": [
      "Programa 1\n",
      "Os faturamentos são diferentes\n"
     ]
    }
   ],
   "source": [
    "faturamento_loja_1 = 2500\n",
    "faturamento_loja_2 = 2200\n",
    "email = \"anderson@gmail.com\"\n",
    "\n",
    "print('Programa 1')\n",
    "if faturamento_loja_1 == faturamento_loja_2:\n",
    "  print('OS faturamentos são iguais')\n",
    "else: \n",
    "  print('Os faturamentos são diferentes')\n",
    "  "
   ]
  },
  {
   "cell_type": "code",
   "execution_count": 86,
   "id": "3266ecb7",
   "metadata": {},
   "outputs": [
    {
     "name": "stdout",
     "output_type": "stream",
     "text": [
      "Programa 2\n",
      "Email correto\n"
     ]
    }
   ],
   "source": [
    "print('Programa 2')\n",
    "if email != 'andersongmail.com':\n",
    "   print('Email correto')\n",
    "else:\n",
    "   print('Email errado') "
   ]
  },
  {
   "cell_type": "code",
   "execution_count": 87,
   "id": "38faa26d",
   "metadata": {},
   "outputs": [
    {
     "name": "stdout",
     "output_type": "stream",
     "text": [
      "Programa 3\n",
      "Email Inválido\n"
     ]
    }
   ],
   "source": [
    "print('Programa 3')\n",
    "emal_usuario = input('Insira seu e-mail:')\n",
    "if not '@' in emal_usuario:\n",
    "   print('Email Inválido')\n",
    "else:\n",
    "   pass"
   ]
  },
  {
   "cell_type": "markdown",
   "id": "72c3fed4",
   "metadata": {},
   "source": [
    "### And ou Or"
   ]
  },
  {
   "cell_type": "code",
   "execution_count": 91,
   "id": "66a9ed1d",
   "metadata": {},
   "outputs": [
    {
     "name": "stdout",
     "output_type": "stream",
     "text": [
      "Funcionário não ganhou o bonus\n"
     ]
    }
   ],
   "source": [
    "\n",
    "meta_funcionario = 10000\n",
    "meta_loja = 250000\n",
    "vendas_funcionario = 15000\n",
    "vendas_loja = 20000\n",
    "\n",
    "if vendas_funcionario > meta_funcionario and vendas_loja > meta_loja:\n",
    "  bonus = 0.03 * vendas_funcionario \n",
    "  print ('Bonus do funcionario foi de {}'.format(bonus))\n",
    "else:\n",
    "  print('Funcionário não ganhou o bonus')\n",
    "  \n",
    "  \n",
    "  \n",
    "  "
   ]
  },
  {
   "cell_type": "code",
   "execution_count": 92,
   "id": "32d47d5d",
   "metadata": {},
   "outputs": [
    {
     "name": "stdout",
     "output_type": "stream",
     "text": [
      "Bonus do funcionario foi de 450.0\n"
     ]
    }
   ],
   "source": [
    "nota_funcionario = 9\n",
    "meta_nota = 9\n",
    "\n",
    "if nota_funcionario >= meta_nota or vendas_funcionario > meta_funcionario and vendas_loja > meta_loja:\n",
    "  bonus = 0.03 * vendas_funcionario \n",
    "  print ('Bonus do funcionario foi de {}'.format(bonus))\n",
    "else:\n",
    "  print('Funcionário não ganhou o bonus')\n"
   ]
  },
  {
   "cell_type": "markdown",
   "id": "3be2f29c",
   "metadata": {},
   "source": [
    "### Comparações Contraintuitivas"
   ]
  },
  {
   "cell_type": "code",
   "execution_count": 99,
   "id": "0851b354",
   "metadata": {},
   "outputs": [
    {
     "name": "stdout",
     "output_type": "stream",
     "text": [
      " O lucro da loja foi de 1000 reais\n"
     ]
    }
   ],
   "source": [
    "faturamento = input('Qual foi o faturamento da loja nesse mê?')\n",
    "custo = input('Qual foi o custo da loja nesse mês?')\n",
    "if faturamento == '' or custo == '':\n",
    "  print('Preencha o faturamento e o custo corretamente')\n",
    "else:\n",
    "  lucro = int(faturamento) - int(custo)\n",
    "  print(\" O lucro da loja foi de {} reais\" . format(lucro))"
   ]
  },
  {
   "cell_type": "code",
   "execution_count": 110,
   "id": "6ad8e784",
   "metadata": {},
   "outputs": [
    {
     "name": "stdout",
     "output_type": "stream",
     "text": [
      "O lucro da loja foi de 1000 reais\n"
     ]
    }
   ],
   "source": [
    "# Outra maneira de fazer\n",
    "\n",
    "faturamento = input('Qual foi o faturamento da loja nesse mê?')\n",
    "custo = input('Qual foi o custo da loja nesse mês?')\n",
    "\n",
    "if faturamento and custo:\n",
    "  lucro = int(faturamento) - int(custo)\n",
    "  print('O lucro da loja foi de {} reais'.format(lucro))\n",
    "else:\n",
    "  print('Preencha o faturamento e o custo corretamente')"
   ]
  }
 ],
 "metadata": {
  "kernelspec": {
   "display_name": ".venv",
   "language": "python",
   "name": "python3"
  },
  "language_info": {
   "codemirror_mode": {
    "name": "ipython",
    "version": 3
   },
   "file_extension": ".py",
   "mimetype": "text/x-python",
   "name": "python",
   "nbconvert_exporter": "python",
   "pygments_lexer": "ipython3",
   "version": "3.13.3"
  }
 },
 "nbformat": 4,
 "nbformat_minor": 5
}
