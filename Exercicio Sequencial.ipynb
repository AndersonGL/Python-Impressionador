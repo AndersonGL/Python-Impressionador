{
 "cells": [
  {
   "cell_type": "markdown",
   "id": "bb0f9514",
   "metadata": {
    "id": "bb0f9514"
   },
   "source": [
    "# Lista de Estrutura Sequencial"
   ]
  },
  {
   "cell_type": "markdown",
   "id": "4e7a8c30",
   "metadata": {
    "id": "4e7a8c30"
   },
   "source": [
    "#### 1. Faça um Programa que mostre a mensagem (print) \"Alo mundo\" na tela."
   ]
  },
  {
   "cell_type": "code",
   "execution_count": 1,
   "id": "883bfe85",
   "metadata": {
    "id": "883bfe85"
   },
   "outputs": [
    {
     "name": "stdout",
     "output_type": "stream",
     "text": [
      "ola, mundo!\n"
     ]
    }
   ],
   "source": [
    "print(\"ola, mundo!\")"
   ]
  },
  {
   "cell_type": "markdown",
   "id": "71d6d6a2",
   "metadata": {
    "id": "71d6d6a2"
   },
   "source": [
    "#### 2. Faça um Programa que peça um número (input) e então mostre a mensagem: \"O número informado foi [número].\""
   ]
  },
  {
   "cell_type": "code",
   "execution_count": 4,
   "id": "30cfffcf",
   "metadata": {
    "id": "30cfffcf"
   },
   "outputs": [
    {
     "name": "stdout",
     "output_type": "stream",
     "text": [
      "O numero digitado foi: 100\n"
     ]
    }
   ],
   "source": [
    "numero = input (\"Digite um numero: \")\n",
    "print(f'O numero digitado foi: {numero}')"
   ]
  },
  {
   "cell_type": "markdown",
   "id": "c5e43160",
   "metadata": {
    "id": "c5e43160"
   },
   "source": [
    "#### 3. Faça um Programa que peça dois números e imprima a soma."
   ]
  },
  {
   "cell_type": "code",
   "execution_count": 6,
   "id": "b0e79590",
   "metadata": {
    "id": "b0e79590"
   },
   "outputs": [
    {
     "name": "stdout",
     "output_type": "stream",
     "text": [
      "A soma total é: 30\n"
     ]
    }
   ],
   "source": [
    "valor1 = 10\n",
    "valor2 = 20\n",
    "soma = valor1 + valor2\n",
    "print(f'A soma total é: {soma}') "
   ]
  },
  {
   "cell_type": "markdown",
   "id": "17826987",
   "metadata": {
    "id": "17826987"
   },
   "source": [
    "#### 4. Faça um Programa que peça as 4 notas bimestrais de um aluno e mostre a média de todas as notas."
   ]
  },
  {
   "cell_type": "code",
   "execution_count": 10,
   "id": "23b66762",
   "metadata": {
    "id": "23b66762"
   },
   "outputs": [
    {
     "name": "stdout",
     "output_type": "stream",
     "text": [
      "A média das notas é: 7.75\n"
     ]
    }
   ],
   "source": [
    "nota_1 = 6.5\n",
    "nota_2 = 7.5\n",
    "nota_3 = 8.0  \n",
    "nota_4 = 9.0\n",
    "media_notas = (nota_1 + nota_2 + nota_3 + nota_4) / 4\n",
    "print(f'A média das notas é: {media_notas}')"
   ]
  },
  {
   "cell_type": "markdown",
   "id": "62d461c5",
   "metadata": {
    "id": "62d461c5"
   },
   "source": [
    "#### 5. Faça um Programa que converta metros para centímetros. Você pode pedir o comprimento em metros para o usuário (input)."
   ]
  },
  {
   "cell_type": "code",
   "execution_count": 14,
   "id": "d642f1ba",
   "metadata": {
    "id": "d642f1ba"
   },
   "outputs": [
    {
     "name": "stdout",
     "output_type": "stream",
     "text": [
      "O valor em centimetros é: 100cm\n"
     ]
    }
   ],
   "source": [
    "conversor_centimetros = input(\"Digite o valor dos metros: \") \n",
    "centimetros = int(conversor_centimetros) * 100\n",
    "print(f'O valor em centimetros é: {centimetros}cm')"
   ]
  },
  {
   "cell_type": "markdown",
   "id": "f1311697",
   "metadata": {
    "id": "f1311697"
   },
   "source": [
    "#### 6. Faça um Programa que calcule a área de uma sala de um apartamento. Para isso, o seu programa precisa pedir a largura da sala, o comprimento da sala e imprimir a área em m² da sala."
   ]
  },
  {
   "cell_type": "code",
   "execution_count": null,
   "id": "612ea24b",
   "metadata": {
    "id": "612ea24b"
   },
   "outputs": [
    {
     "name": "stdout",
     "output_type": "stream",
     "text": [
      "A área da parede é: 16.0 m²\n"
     ]
    }
   ],
   "source": [
    "largura_parede = input(\"Digite a largura da parede em metros: \")\n",
    "altura_parede = input(\"Digite a altura da parede em metros: \")\n",
    "largura_parede = float(largura_parede)\n",
    "altura_parede = float(altura_parede)\n",
    "area_parede = largura_parede * altura_parede\n",
    "print(f'A área da parede é: {area_parede} m²') \n",
    "\n"
   ]
  },
  {
   "cell_type": "markdown",
   "id": "2a285929",
   "metadata": {
    "id": "2a285929"
   },
   "source": [
    "#### 7. Faça um Programa que pergunte quanto você ganha por hora e o número de horas trabalhadas no mês. Calcule e mostre o total do seu salário no referido mês."
   ]
  },
  {
   "cell_type": "code",
   "execution_count": 4,
   "id": "359e2232",
   "metadata": {
    "id": "359e2232"
   },
   "outputs": [
    {
     "name": "stdout",
     "output_type": "stream",
     "text": [
      "O sálario mensal é: 2752.2\n"
     ]
    }
   ],
   "source": [
    "ganhos_hora = input(\"Digite o valor ganho por hora: \")  # 15.29 por hora\n",
    "horas_trabalhadas = input(\"Digite o número de horas trabalhadas no mês: \") # 180 horas por mês\n",
    "ganhos_hora = float(ganhos_hora)\n",
    "horas_trabalhadas = float(horas_trabalhadas)\n",
    "salario_mensal = ganhos_hora * horas_trabalhadas\n",
    "print(f'O sálario mensal é: {salario_mensal}')  # 2752.20\n",
    "\n"
   ]
  },
  {
   "cell_type": "markdown",
   "id": "7e2d4615",
   "metadata": {
    "id": "7e2d4615"
   },
   "source": [
    "#### 8. Vamos criar um conversor de temperatura. Faça um Programa que peça a temperatura em graus Fahrenheit, transforme e mostre a temperatura em graus Celsius.\n",
    "$C = \\frac{5}{9}(F-32)$"
   ]
  },
  {
   "cell_type": "code",
   "execution_count": 13,
   "id": "82daf9fd",
   "metadata": {
    "id": "82daf9fd"
   },
   "outputs": [
    {
     "name": "stdout",
     "output_type": "stream",
     "text": [
      "A temperatura em Celsius é: 11.11111111111111 \n"
     ]
    }
   ],
   "source": [
    "temperatura_fahranheit = input(\"Digite a temperatura em Fahrenheit: \")\n",
    "temperatura_fahranheit = float(temperatura_fahranheit)\n",
    "temperatura_celsius = (temperatura_fahranheit - 32) * 5/9\n",
    "print(f'A temperatura em Celsius é: {temperatura_celsius} ')"
   ]
  },
  {
   "cell_type": "markdown",
   "id": "20708b1c",
   "metadata": {
    "id": "20708b1c"
   },
   "source": [
    "#### 9. Faça um Programa que peça a temperatura em graus Celsius, transforme e mostre em graus Fahrenheit.\n",
    "$F = \\frac{9}{5}C + 32$"
   ]
  },
  {
   "cell_type": "code",
   "execution_count": 26,
   "id": "c73cfb38",
   "metadata": {
    "id": "c73cfb38"
   },
   "outputs": [
    {
     "name": "stdout",
     "output_type": "stream",
     "text": [
      "A temperatura em Fahrenheit é: 51.8\n"
     ]
    }
   ],
   "source": [
    "temperatura_celsius = input(\"Digite a temperatura em Celsius: \")\n",
    "temperatura_celsius = float(temperatura_celsius)\n",
    "temperatura_fahranheit = (temperatura_celsius * 9/5) + 32 \n",
    "print(f'A temperatura em Fahrenheit é: { temperatura_fahranheit}')\n",
    "\n",
    "\n"
   ]
  },
  {
   "cell_type": "markdown",
   "id": "b263a9dc",
   "metadata": {
    "id": "b263a9dc"
   },
   "source": [
    "#### 10. Tendo como dados de entrada a altura (h) de uma pessoa, construa um algoritmo que calcule seu peso ideal, usando a seguinte fórmula:\n",
    "$P = 72,7h - 58$\n",
    "\n",
    "Lembrando que \"algoritmo\" nada mais é do que um programa, como todos os outros que você vem fazendo"
   ]
  },
  {
   "cell_type": "code",
   "execution_count": 1,
   "id": "9a9b8dca",
   "metadata": {
    "id": "9a9b8dca"
   },
   "outputs": [
    {
     "name": "stdout",
     "output_type": "stream",
     "text": [
      "O IMC da pessoa é: 34.49223161686151 kg/m²\n"
     ]
    }
   ],
   "source": [
    "altura_pessoa = input(\"Digite a altura da pessoa em metros:\") # p = 72, 7h -58\n",
    "altura_pessoa = float(altura_pessoa)\n",
    "peso_pessoa = input(\"Digite o peso da pessoa em kg: \")\n",
    "peso_pessoa = float(peso_pessoa)  \n",
    "imc = peso_pessoa / (altura_pessoa ** 2)\n",
    "print(f'O IMC da pessoa é: {imc} kg/m²')"
   ]
  },
  {
   "cell_type": "markdown",
   "id": "13bb40d7",
   "metadata": {
    "id": "13bb40d7"
   },
   "source": [
    "#### 11. Tendo como dado de entrada a altura (h) de uma pessoa, construa um algoritmo que calcule seu peso ideal, utilizando as seguintes fórmulas:\n",
    "##### a. Para homens: $P = 72,7h - 58$\n",
    "##### b. Para mulheres: $P = 62,1h - 44,7$"
   ]
  },
  {
   "cell_type": "code",
   "execution_count": 5,
   "id": "bf82dc8c",
   "metadata": {
    "id": "bf82dc8c"
   },
   "outputs": [
    {
     "name": "stdout",
     "output_type": "stream",
     "text": [
      "O peso ideal para homens é: 60.8 kg\n",
      "O peso ideal para mulheres é: 57.599999999999994kg\n"
     ]
    }
   ],
   "source": [
    "altura = float(input(\"Digite sua altura:\"))\n",
    "peso_ideal_homens = 72 * altura - 58\n",
    "peso_ideal_mulheres = 62 * altura - 44.7\n",
    "\n",
    "print(f'O peso ideal para homens é: {peso_ideal_homens} kg')\n",
    "print(f'O peso ideal para mulheres é: {peso_ideal_mulheres}kg')"
   ]
  },
  {
   "cell_type": "markdown",
   "id": "f208ef89",
   "metadata": {
    "id": "f208ef89"
   },
   "source": [
    "#### 12. Faça um Programa que pergunte quanto você ganha por hora e o número de horas trabalhadas no mês."
   ]
  },
  {
   "cell_type": "code",
   "execution_count": 10,
   "id": "2d5b23e0",
   "metadata": {
    "id": "2d5b23e0"
   },
   "outputs": [
    {
     "name": "stdout",
     "output_type": "stream",
     "text": [
      "Você ganha por hora 15.0 reais por hora e você trabalha 180 horas por mês.\n"
     ]
    }
   ],
   "source": [
    "ganhos_por_hora = input(\"Digite os ganhos por hora trabalhada: \") #15\n",
    "numeros_horas_trabalhadas = input(\"Digite o números de horas trabalhadas por mês: \") # 180\n",
    "ganhos_por_hora = float(ganhos_por_hora)\n",
    "horas_trabalhadas_mes = float(numeros_horas_trabalhadas)\n",
    "print(f'Você ganha por hora {ganhos_por_hora} reais por hora e você trabalha {numeros_horas_trabalhadas} horas por mês.')                  \n"
   ]
  },
  {
   "cell_type": "markdown",
   "id": "607dee3c",
   "metadata": {
    "id": "607dee3c"
   },
   "source": [
    "#####  Calcule o salário bruto (horas * salario por hora)"
   ]
  },
  {
   "cell_type": "code",
   "execution_count": 14,
   "id": "7f80ccbb",
   "metadata": {
    "id": "7f80ccbb"
   },
   "outputs": [
    {
     "name": "stdout",
     "output_type": "stream",
     "text": [
      "2754.0\n"
     ]
    }
   ],
   "source": [
    "salario_bruto = 15.30 * 180\n",
    "print(salario_bruto)"
   ]
  },
  {
   "cell_type": "markdown",
   "id": "2ed93cb0",
   "metadata": {
    "id": "2ed93cb0"
   },
   "source": [
    "##### Calcule o desconto do IR (11% do salário bruto)"
   ]
  },
  {
   "cell_type": "code",
   "execution_count": 16,
   "id": "3363e22f",
   "metadata": {
    "id": "3363e22f"
   },
   "outputs": [
    {
     "name": "stdout",
     "output_type": "stream",
     "text": [
      "302.94\n"
     ]
    }
   ],
   "source": [
    "desconto_ir = 2754 * 0.11\n",
    "print(desconto_ir)"
   ]
  },
  {
   "cell_type": "markdown",
   "id": "0994b2c0",
   "metadata": {
    "id": "0994b2c0"
   },
   "source": [
    "##### Calcule o desconto do INSS (8% do salário bruto)"
   ]
  },
  {
   "cell_type": "code",
   "execution_count": 19,
   "id": "748c6088",
   "metadata": {
    "id": "748c6088"
   },
   "outputs": [
    {
     "name": "stdout",
     "output_type": "stream",
     "text": [
      "220.32\n"
     ]
    }
   ],
   "source": [
    "desconto_inss = 2754 * 0.08\n",
    "print(desconto_inss)"
   ]
  },
  {
   "cell_type": "markdown",
   "id": "06e8dae4",
   "metadata": {
    "id": "06e8dae4"
   },
   "source": [
    "##### Calcule o desconto do sindicato (5% do salário bruto)"
   ]
  },
  {
   "cell_type": "code",
   "execution_count": 20,
   "id": "21b95b15",
   "metadata": {
    "id": "21b95b15",
    "scrolled": true
   },
   "outputs": [
    {
     "name": "stdout",
     "output_type": "stream",
     "text": [
      "137.70000000000002\n"
     ]
    }
   ],
   "source": [
    "desconto_sindicato = 2754 * 0.05\n",
    "print(desconto_sindicato)"
   ]
  },
  {
   "cell_type": "markdown",
   "id": "bb14ce36",
   "metadata": {
    "id": "bb14ce36"
   },
   "source": [
    "##### Calcule o salário líquido (salário bruto - descontos)"
   ]
  },
  {
   "cell_type": "code",
   "execution_count": 21,
   "id": "56317086",
   "metadata": {
    "id": "56317086"
   },
   "outputs": [
    {
     "name": "stdout",
     "output_type": "stream",
     "text": [
      "2093.04\n"
     ]
    }
   ],
   "source": [
    "salario_liquido = salario_bruto - desconto_ir - desconto_inss - desconto_sindicato\n",
    "print(salario_liquido)"
   ]
  },
  {
   "cell_type": "markdown",
   "id": "cfbfcc87",
   "metadata": {
    "id": "cfbfcc87"
   },
   "source": [
    "#### 13. Faça um programa para uma loja de tintas. O programa deverá pedir o tamanho em metros quadrados da área a ser pintada. Considere que a cobertura da tinta é de 1 litro para cada 3 metros quadrados e que a tinta é vendida em latas de 18 litros, que custam R\\$ 80,00. Informe ao usuário a quantidades de latas de tinta a serem compradas e o preço total. (para simplificação nesse momento, não se preocupe em arredondar a quantidade de latas a serem compradas - vamos trabalhar isso em breve)"
   ]
  },
  {
   "cell_type": "code",
   "execution_count": null,
   "id": "fb6a083b",
   "metadata": {
    "id": "fb6a083b"
   },
   "outputs": [
    {
     "name": "stdout",
     "output_type": "stream",
     "text": [
      "Serão necessárias 0.925925925925926 latas. custando R$ 16.666666666666668 no total\n"
     ]
    }
   ],
   "source": [
    "area = float(input(\"Informe a area a ser pintada em m²:\"))\n",
    "litros_tinta =  area / 3\n",
    "latas = litros_tinta / 18\n",
    "preco = latas * 18\n",
    "print(f'Serão necessárias {latas} latas. custando R$ {preco} no total.')"
   ]
  },
  {
   "cell_type": "markdown",
   "id": "d6503c92",
   "metadata": {
    "id": "d6503c92"
   },
   "source": [
    "#### 14. Faça um programa que peça o tamanho de um arquivo para download (em MB) e a velocidade de um link de Internet (em Mbps), calcule e informe o tempo aproximado de download do arquivo usando este link (em minutos).\n",
    "\n",
    "Detalhe: MB significa megabyte, Mb (com b minúsculo) significa megabit. Um megabit é 1/8 de um megabyte. "
   ]
  },
  {
   "cell_type": "code",
   "execution_count": 29,
   "id": "0563aa62",
   "metadata": {
    "id": "0563aa62"
   },
   "outputs": [
    {
     "name": "stdout",
     "output_type": "stream",
     "text": [
      "O tempo de download é de 0.13333333333333333 minutos\n"
     ]
    }
   ],
   "source": [
    "tamanho = input(\"informe o tamanho do arquivo em MB\")\n",
    "velocidade = input(\"Informe a velocidade da conexão em Mbps\")\n",
    "\n",
    "tamanho = float(tamanho)\n",
    "velocidade = float(velocidade)\n",
    "\n",
    "tamanho_megabits = tamanho * 8\n",
    "tempo = tamanho_megabits / velocidade\n",
    "\n",
    "tempo_minutos = tempo / 60\n",
    "\n",
    "print(f'O tempo de download é de {tempo_minutos} minutos')\n"
   ]
  }
 ],
 "metadata": {
  "colab": {
   "provenance": []
  },
  "kernelspec": {
   "display_name": ".venv",
   "language": "python",
   "name": "python3"
  },
  "language_info": {
   "codemirror_mode": {
    "name": "ipython",
    "version": 3
   },
   "file_extension": ".py",
   "mimetype": "text/x-python",
   "name": "python",
   "nbconvert_exporter": "python",
   "pygments_lexer": "ipython3",
   "version": "3.13.3"
  }
 },
 "nbformat": 4,
 "nbformat_minor": 5
}
