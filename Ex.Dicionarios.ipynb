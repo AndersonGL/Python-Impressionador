{
 "cells": [
  {
   "cell_type": "markdown",
   "metadata": {},
   "source": [
    "### Exercício 1\n",
    "Crie um sistema de consulta de preços\n",
    "Seu sistema deve:\n",
    "- Pedir para o usuário o nome de um produto\n",
    "- Caso o produto exista na lista de produtos, o programa deve retornar o preço do produto como resposta\n",
    "       - Ex: O produto celular custa R$1500\n",
    "- Caso o produto não exista na lista de produtos, o programa deve printar uma mensagem para o usuário tentar novamente\n"
   ]
  },
  {
   "cell_type": "code",
   "execution_count": 1,
   "metadata": {},
   "outputs": [
    {
     "name": "stdout",
     "output_type": "stream",
     "text": [
      "O produto  não está disponível.\n"
     ]
    }
   ],
   "source": [
    "precos = {\"celular\": 1500, \"camera\": 1000, \"fone de ouvido\": 800, \"monitor\": 2000}\n",
    "\n",
    "produto  =  input(\"Digite o nome do produto: \").lower()\n",
    "if produto in precos:\n",
    "    print(f\"O preço do {produto} é R$ {precos[produto]}\")\n",
    "else:\n",
    "    print(f\"O produto {produto} não está disponível.\")"
   ]
  },
  {
   "cell_type": "markdown",
   "metadata": {},
   "source": [
    "\n",
    "### Exercício 2\n",
    "Agora edite o programa anterior para fazer com que, caso não exista o produto, o programa pergunte se o usuário quer cadastrar o produto\n",
    "<br>Se ele responder sim, o programa deve pedir o nome do produto e o preco do produto e cadastrar no dicionário de preços\n",
    "<br>Em seguida do cadastro bem sucedido, o programa deve printar o dicionário de precos atualizado\n"
   ]
  },
  {
   "cell_type": "code",
   "execution_count": null,
   "metadata": {},
   "outputs": [
    {
     "name": "stdout",
     "output_type": "stream",
     "text": [
      "O produto pc foi cadastrado com sucesso!\n"
     ]
    }
   ],
   "source": [
    "precos = {\"celular\": 1500, \"camera\": 1000, \"fone de ouvido\": 800, \"monitor\": 2000}\n",
    "\n",
    "\n",
    "resposta = input(\"Deseja cadastrar um novo produto? (s/n)\").lower()\n",
    "if resposta == 'sim':\n",
    "    produto = input(\"Digite o nome do produto: \").lower()\n",
    "    preco = float(input(f\"Digite o preço do {produto}: \"))\n",
    "    precos[produto] = preco\n",
    "    print(f\"O produto {produto} foi cadastrado com sucesso!\")\n",
    "    \n",
    "    "
   ]
  },
  {
   "cell_type": "code",
   "execution_count": 5,
   "metadata": {},
   "outputs": [
    {
     "name": "stdout",
     "output_type": "stream",
     "text": [
      "{'celular': 1500, 'camera': 1000, 'fone de ouvido': 800, 'monitor': 2000, 'pc': 100.0}\n"
     ]
    }
   ],
   "source": [
    "print(precos)"
   ]
  },
  {
   "cell_type": "markdown",
   "metadata": {},
   "source": [
    "### Exercício 3\n",
    "Dada a lista de preços de produtos, uma loja resolveu fazer um reajuste nos preços dos produtos. \n",
    "calcule o novo valor dos produtos com base nas seguintes regras:\n",
    "- Preços até 1.000 vão ter um reajuste de 10% (ou seja, o novo preço será 110% do preço atual)\n",
    "- Preços até maiores que 1.000 até 2.000 vão ter reajuste de 15%\n",
    "- Preços acima de 2.000 vão ter reajuste de 20%"
   ]
  },
  {
   "cell_type": "code",
   "execution_count": null,
   "metadata": {},
   "outputs": [
    {
     "name": "stdout",
     "output_type": "stream",
     "text": [
      "{'celular': 1724.9999999999998, 'camera': 1100.0, 'fone de ouvido': 880.0000000000001, 'monitor': 3600.0}\n"
     ]
    }
   ],
   "source": [
    "precos = {\"celular\": 1500, \"camera\": 1000, \"fone de ouvido\": 800, \"monitor\": 3000}\n",
    "\n",
    "for produto, preco in precos.items():\n",
    "    if preco <= 1000:\n",
    "        precos[produto] = preco * 1.10\n",
    "    elif preco <= 2000:\n",
    "        precos[produto] = preco * 1.15\n",
    "    else:\n",
    "        precos[produto] = preco * 1.20\n",
    "        \n",
    "print(precos)"
   ]
  },
  {
   "cell_type": "markdown",
   "metadata": {},
   "source": [
    "### Exercício 4\n",
    " - Edite o programa antigo para ter os 2 dicionários, o de preços originais e o de novos preços\n",
    " - Em seguida calcule o valor total de reajuste em R$ que teve entre a lista de produtos original e a lista final\n"
   ]
  },
  {
   "cell_type": "code",
   "execution_count": 9,
   "metadata": {},
   "outputs": [
    {
     "name": "stdout",
     "output_type": "stream",
     "text": [
      "Total de reajuste: R$ 2005.00\n"
     ]
    }
   ],
   "source": [
    "precos = {\"celular\": 1500, \"camera\": 1000, \"fone de ouvido\": 800, \"monitor\": 2000}\n",
    "\n",
    "precos_ajustados = {'celular': 1724.9999999999998, 'camera': 1100.0, 'fone de ouvido': 880.0000000000001, 'monitor': 3600.0}\n",
    "\n",
    "# Em seguida calcule o valor total de reajuste em R$ que teve entre a lista de produtos original e a lista final\n",
    "\n",
    "total_reajuste = sum(precos_ajustados[produto] - precos[produto] for produto in precos)\n",
    "\n",
    "print(f\"Total de reajuste: R$ {total_reajuste:.2f}\")"
   ]
  },
  {
   "cell_type": "markdown",
   "metadata": {},
   "source": [
    "\n",
    "### Exercício 5\n",
    "- Uma empresa está analisando os resultados de vendas do 1º semestre de 2022 e 2023\n",
    "- Qual foi o % de crescimento de cada mês de 2023 em relação a 2022?\n",
    "- Depois de calcular isso, calcule o valor total de crescimento de 2023 em relação a 2022"
   ]
  },
  {
   "cell_type": "code",
   "execution_count": 17,
   "metadata": {},
   "outputs": [
    {
     "name": "stdout",
     "output_type": "stream",
     "text": [
      "Crescimento mensal:\n",
      "jan: 13.33%\n",
      "fev: -3.23%\n",
      "mar: 25.00%\n",
      "abr: 1.81%\n",
      "mai: -1.84%\n",
      "jun: 8.82%\n",
      "Total de crescimento de 2023 para 2022 foi de : R$ 6500.00\n"
     ]
    }
   ],
   "source": [
    "vendas_22 = {\"jan\": 15000, \"fev\": 15500, \"mar\": 14000, \"abr\": 16600, \"mai\": 16300, \"jun\": 17000}\n",
    "vendas_23 = {\"jan\": 17000, \"fev\": 15000, \"mar\": 17500, \"abr\": 16900, \"mai\": 16000, \"jun\": 18500}\n",
    "\n",
    "\n",
    "crescimento = {}\n",
    "for mes in vendas_22:\n",
    "    if mes in vendas_23:\n",
    "        crescimento[mes] = ((vendas_23[mes] - vendas_22[mes]) / vendas_22[mes]) * 100\n",
    "total_crescimento = sum(vendas_23[mes] - vendas_22[mes] for mes in vendas_22 if mes in vendas_23)   \n",
    "print(\"Crescimento mensal:\")\n",
    "\n",
    "for mes, percent in crescimento.items():\n",
    "    print(f\"{mes}: {percent:.2f}%\") \n",
    "    \n",
    "print(f\"Total de crescimento de 2023 para 2022 foi de : R$ {total_crescimento:.2f}\")   "
   ]
  },
  {
   "cell_type": "markdown",
   "metadata": {},
   "source": [
    "### Exercício 6 - Desafio\n",
    "- No final da reunião de apresentação dos números, seu chefe perguntou:\n",
    "- E se nos meses de 2023 que a gente vendeu menos do que 2022 a gente tivesse pelo menos empatado com 2022 (ou seja, se nos meses de 2023 em que as vendas foram menores do que o mesmo mês em 2022, o valor de vendas tivesse sido igual a 2022)\n",
    "- Qual teria sido o nosso crescimento de 2023 frente a 2022?"
   ]
  },
  {
   "cell_type": "code",
   "execution_count": 31,
   "metadata": {},
   "outputs": [
    {
     "name": "stdout",
     "output_type": "stream",
     "text": [
      "Crescimento mensal ajustado:\n",
      "jan: 13.33%\n",
      "fev: 0.00%\n",
      "mar: 25.00%\n",
      "abr: 1.81%\n",
      "mai: 0.00%\n",
      "jun: 8.82%\n",
      "Total de crescimento ajustado de 2023 para 2022 foi de : R$ 7300.00\n"
     ]
    }
   ],
   "source": [
    "vendas_22 = {\"jan\": 15000, \"fev\": 15500, \"mar\": 14000, \"abr\": 16600, \"mai\": 16300, \"jun\": 17000}\n",
    "vendas_23 = {\"jan\": 17000, \"fev\": 15000, \"mar\": 17500, \"abr\": 16900, \"mai\": 16000, \"jun\": 18500}\n",
    "\n",
    "vendas_23 = vendas_23.copy()\n",
    "for mes in vendas_22:\n",
    "    if mes in vendas_23 and vendas_23[mes] < vendas_22[mes]:\n",
    "        vendas_23[mes] = vendas_22[mes]   \n",
    "crescimento_ajustado = {}\n",
    "for mes in vendas_22:\n",
    "    if mes in vendas_23:\n",
    "        crescimento_ajustado[mes] = ((vendas_23[mes] - vendas_22[mes]) / vendas_22[mes]) * 100\n",
    "total_crescimento_ajustado = sum(vendas_23[mes] - vendas_22[mes] for mes in vendas_22 if mes in vendas_23)\n",
    "print(\"Crescimento mensal ajustado:\")   \n",
    "for mes, percent in crescimento_ajustado.items():\n",
    "    print(f\"{mes}: {percent:.2f}%\")\n",
    "print(f\"Total de crescimento ajustado de 2023 para 2022 foi de : R$ {total_crescimento_ajustado:.2f}\")\n",
    "\n",
    "\n",
    "\n"
   ]
  }
 ],
 "metadata": {
  "kernelspec": {
   "display_name": ".venv",
   "language": "python",
   "name": "python3"
  },
  "language_info": {
   "codemirror_mode": {
    "name": "ipython",
    "version": 3
   },
   "file_extension": ".py",
   "mimetype": "text/x-python",
   "name": "python",
   "nbconvert_exporter": "python",
   "pygments_lexer": "ipython3",
   "version": "3.13.3"
  }
 },
 "nbformat": 4,
 "nbformat_minor": 2
}
