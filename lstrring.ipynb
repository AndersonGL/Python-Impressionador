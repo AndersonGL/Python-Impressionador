{
 "cells": [
  {
   "cell_type": "markdown",
   "id": "0300ce36",
   "metadata": {},
   "source": [
    "# String "
   ]
  },
  {
   "cell_type": "markdown",
   "id": "c57370d1",
   "metadata": {},
   "source": [
    "### Primeira String\n"
   ]
  },
  {
   "cell_type": "code",
   "execution_count": null,
   "id": "4977e626",
   "metadata": {
    "vscode": {
     "languageId": "plaintext"
    }
   },
   "outputs": [],
   "source": [
    "texto = \"Anderson\"\n",
    "print = (texto)"
   ]
  },
  {
   "cell_type": "markdown",
   "id": "bb631e6a",
   "metadata": {},
   "source": [
    "### Indice dentro da string"
   ]
  },
  {
   "cell_type": "code",
   "execution_count": null,
   "id": "8bc89094",
   "metadata": {
    "vscode": {
     "languageId": "plaintext"
    }
   },
   "outputs": [],
   "source": [
    "email = \"anderson@gmail.com\"  \n",
    "nome = \"Anderson\"\n",
    "\n",
    "print(len(nome))   # 8 caracteres\n",
    "print(len(email))  # 18 caracteres\n",
    "\n",
    "texto = \"Anderson\"\n",
    "print(texto[0])\n",
    "print(texto[1])\n",
    "print(texto[2])\n",
    "print(texto[3])\n",
    "print(texto[4])\n",
    "print(texto[5])\n",
    "print(texto[6])\n",
    "print(texto[7])   # Anderson"
   ]
  }
 ],
 "metadata": {
  "language_info": {
   "name": "python"
  }
 },
 "nbformat": 4,
 "nbformat_minor": 5
}
