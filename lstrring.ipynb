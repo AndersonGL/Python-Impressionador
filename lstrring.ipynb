{
 "cells": [
  {
   "cell_type": "markdown",
   "id": "0300ce36",
   "metadata": {},
   "source": [
    "# String "
   ]
  },
  {
   "cell_type": "markdown",
   "id": "c57370d1",
   "metadata": {},
   "source": [
    "### Primeira String\n"
   ]
  },
  {
   "cell_type": "code",
   "execution_count": null,
   "id": "4977e626",
   "metadata": {
    "vscode": {
     "languageId": "plaintext"
    }
   },
   "outputs": [],
   "source": [
    "texto = \"Anderson\"\n",
    "print = (texto)"
   ]
  },
  {
   "cell_type": "markdown",
   "id": "bb631e6a",
   "metadata": {},
   "source": [
    "### Indice dentro da string"
   ]
  },
  {
   "cell_type": "code",
   "execution_count": null,
   "id": "8bc89094",
   "metadata": {
    "vscode": {
     "languageId": "plaintext"
    }
   },
   "outputs": [],
   "source": [
    "email = \"anderson@gmail.com\"  \n",
    "texto = \"Anderson\"\n",
    "\n",
    "print(len(email))  # 18 indice de do email"
   ]
  }
 ],
 "metadata": {
  "language_info": {
   "name": "python"
  }
 },
 "nbformat": 4,
 "nbformat_minor": 5
}
