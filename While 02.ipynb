{
 "cells": [
  {
   "cell_type": "markdown",
   "metadata": {},
   "source": [
    "# Cuidado com o while -> Loop Infinito\n",
    "\n",
    "Sempre que for usar o comando while, lembre-se de ter certeza que o programa vai terminar em algum momento\n",
    "\n",
    "### Exemplo\n",
    "\n",
    "Digamos que temos uma lista de vendedores e as quantidades vendidas e queremos identificar todos os vendedores que bateram a meta de 50 vendas."
   ]
  },
  {
   "cell_type": "code",
   "execution_count": null,
   "metadata": {},
   "outputs": [
    {
     "name": "stdout",
     "output_type": "stream",
     "text": [
      "Vendedor Maria bateu a meta com 941 vendas.\n",
      "Vendedor José bateu a meta com 852 vendas.\n",
      "Vendedor Antônio bateu a meta com 783 vendas.\n",
      "Vendedor João bateu a meta com 714 vendas.\n",
      "Vendedor Francisco bateu a meta com 697 vendas.\n",
      "Vendedor Ana bateu a meta com 686 vendas.\n",
      "Vendedor Luiz bateu a meta com 685 vendas.\n",
      "Vendedor Paulo bateu a meta com 670 vendas.\n",
      "Vendedor Carlos bateu a meta com 631 vendas.\n",
      "Vendedor Manoel bateu a meta com 453 vendas.\n",
      "Vendedor Pedro bateu a meta com 386 vendas.\n",
      "Vendedor Francisca bateu a meta com 371 vendas.\n",
      "Vendedor Marcos bateu a meta com 294 vendas.\n",
      "Vendedor Raimundo bateu a meta com 269 vendas.\n",
      "Vendedor Sebastião bateu a meta com 259 vendas.\n",
      "Vendedor Antônia bateu a meta com 218 vendas.\n",
      "Vendedor Marcelo bateu a meta com 208 vendas.\n",
      "Vendedor Jorge bateu a meta com 163 vendas.\n",
      "Vendedor Márcia bateu a meta com 125 vendas.\n",
      "Vendedor Geraldo bateu a meta com 102 vendas.\n",
      "Vendedor Adriana bateu a meta com 87 vendas.\n"
     ]
    }
   ],
   "source": [
    "vendas = [941, 852, 783, 714, 697, 686, 685, 670, 631, 453, 386, 371, 294, 269, 259, 218, 208, 163, 125, 102, 87, 47, 7]\n",
    "vendedores = ['Maria', 'José', 'Antônio', 'João', 'Francisco', 'Ana', 'Luiz', 'Paulo', 'Carlos', 'Manoel', 'Pedro', 'Francisca', 'Marcos', 'Raimundo', 'Sebastião', 'Antônia', 'Marcelo', 'Jorge', 'Márcia', 'Geraldo', 'Adriana', 'Sandra', 'Luis']\n",
    "meta = 50\n",
    "\n",
    "i = 0   \n",
    "\n",
    "while vendas[i] > meta: #  enquanto o número de vendas for maior que a meta\n",
    "    print('Vendedor {} bateu a meta com {} vendas.'.format(vendedores[i],vendas[i]))\n",
    "    i+= 1\n",
    "        "
   ]
  }
 ],
 "metadata": {
  "kernelspec": {
   "display_name": ".venv",
   "language": "python",
   "name": "python3"
  },
  "language_info": {
   "codemirror_mode": {
    "name": "ipython",
    "version": 3
   },
   "file_extension": ".py",
   "mimetype": "text/x-python",
   "name": "python",
   "nbconvert_exporter": "python",
   "pygments_lexer": "ipython3",
   "version": "3.13.3"
  }
 },
 "nbformat": 4,
 "nbformat_minor": 4
}
