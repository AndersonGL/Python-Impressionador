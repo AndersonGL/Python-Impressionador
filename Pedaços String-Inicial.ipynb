{
 "cells": [
  {
   "cell_type": "markdown",
   "id": "4e5fa91b",
   "metadata": {},
   "source": [
    "### Forma Básica"
   ]
  },
  {
   "cell_type": "code",
   "execution_count": null,
   "id": "fba45682",
   "metadata": {},
   "outputs": [
    {
     "name": "stdout",
     "output_type": "stream",
     "text": [
      "25\n"
     ]
    }
   ],
   "source": [
    "precos = \"Jan: 25, Fev: 27, Mar: 29\"\n",
    "\n",
    "preco_jan = precos[5:7] # Extrai o preço de janeiro, que está entre os índices 5 e 7\n",
    "print(preco_jan)"
   ]
  },
  {
   "cell_type": "markdown",
   "id": "afe5dc17",
   "metadata": {},
   "source": [
    "### Posição Inicial e Final"
   ]
  },
  {
   "cell_type": "code",
   "execution_count": null,
   "id": "c3488405",
   "metadata": {},
   "outputs": [
    {
     "name": "stdout",
     "output_type": "stream",
     "text": [
      "29\n",
      "27\n",
      ",\n"
     ]
    }
   ],
   "source": [
    "preco_mar = precos[-2:]  # Extrai o último caractere da string, que é o preço de março\n",
    "print(preco_mar)\n",
    "\n",
    "preco_fev = precos[14:16]  # Extrai o preço de fevereiro, que está entre os índices 11 e 13\n",
    "print(preco_fev)\n",
    "\n",
    "preco_fev = precos[-10:]Extrai o preço de fevereiro, que está entre os índices 8 e 10\n",
    "print(preco_fev)"
   ]
  },
  {
   "cell_type": "markdown",
   "id": "bca6dfd4",
   "metadata": {},
   "source": [
    "### Posição Inicial e Final com Step"
   ]
  },
  {
   "cell_type": "code",
   "execution_count": null,
   "id": "981224c2",
   "metadata": {},
   "outputs": [],
   "source": [
    "codigo = \"1.2.3.4,5,1,2.3.4,7.9\"\n"
   ]
  },
  {
   "cell_type": "code",
   "execution_count": null,
   "id": "e134a9b3",
   "metadata": {},
   "outputs": [],
   "source": []
  }
 ],
 "metadata": {
  "kernelspec": {
   "display_name": ".venv",
   "language": "python",
   "name": "python3"
  },
  "language_info": {
   "codemirror_mode": {
    "name": "ipython",
    "version": 3
   },
   "file_extension": ".py",
   "mimetype": "text/x-python",
   "name": "python",
   "nbconvert_exporter": "python",
   "pygments_lexer": "ipython3",
   "version": "3.13.3"
  }
 },
 "nbformat": 4,
 "nbformat_minor": 5
}
