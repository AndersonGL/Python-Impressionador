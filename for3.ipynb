{
 "cells": [
  {
   "cell_type": "markdown",
   "metadata": {},
   "source": [
    "# for + if\n",
    "\n",
    "### Estrutura:"
   ]
  },
  {
   "cell_type": "raw",
   "metadata": {},
   "source": [
    "for item in lista:\n",
    "    if condicao:\n",
    "        faça alguma coisa\n",
    "    else:\n",
    "        outra coisa"
   ]
  },
  {
   "cell_type": "markdown",
   "metadata": {},
   "source": [
    "Digamos que a gente esteja analisando a meta de vendas de vários funcionários de uma empresa. A meta de vendas é de 1000 reais em 1 dia.\n",
    "\n",
    "Temos uma lista com as vendas de todos os funcionários e quero calcular qual o % de pessoas que bateram a meta."
   ]
  },
  {
   "cell_type": "code",
   "execution_count": 35,
   "metadata": {},
   "outputs": [
    {
     "name": "stdout",
     "output_type": "stream",
     "text": [
      " O Percentual de pessoas que batereram a meta foi de 26% \n",
      "O número de pessoas que bateram a meta foi de: 6\n",
      "O número total de pessoas foi de 23\n"
     ]
    }
   ],
   "source": [
    "vendas = [1200, 300, 800, 1500, 1900, 2750, 400, 20, 23, 70, 90, 80, 1100, 999, 900, 880, 870, 50, 1111, 120, 300, 450, 800]\n",
    "meta = 1000\n",
    "\n",
    "qtde_bateu_meta = 0  # Inicializa o contador de vendas que bateram a meta\n",
    "\n",
    "\n",
    "for venda in vendas:  #     Itera sobre cada venda na lista\n",
    "    if venda >= meta: # Verifica se a venda é maior que a meta\n",
    "       qtde_bateu_meta += 1\n",
    "\n",
    "\n",
    "qtde_funcionarios = len(vendas)  # Conta o número total de vendas\n",
    "\n",
    "print(' O Percentual de pessoas que batereram a meta foi de {:.0%} '.format(qtde_bateu_meta / qtde_funcionarios))  # Calcula e exibe o percentual de vendas que bateram a meta\n",
    "\n",
    "print ('O número de pessoas que bateram a meta foi de: {}'.format(qtde_bateu_meta))  # Exibe o número de pessoas que bateram a meta\n",
    "\n",
    "print('O número total de pessoas foi de {}'.format(qtde_funcionarios))  # Exibe o número total de pessoas que realizaram vendas"
   ]
  }
 ],
 "metadata": {
  "kernelspec": {
   "display_name": ".venv",
   "language": "python",
   "name": "python3"
  },
  "language_info": {
   "codemirror_mode": {
    "name": "ipython",
    "version": 3
   },
   "file_extension": ".py",
   "mimetype": "text/x-python",
   "name": "python",
   "nbconvert_exporter": "python",
   "pygments_lexer": "ipython3",
   "version": "3.13.3"
  }
 },
 "nbformat": 4,
 "nbformat_minor": 4
}
