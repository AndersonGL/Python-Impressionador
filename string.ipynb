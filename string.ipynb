{
 "cells": [
  {
   "cell_type": "markdown",
   "id": "0300ce36",
   "metadata": {},
   "source": [
    "# String "
   ]
  },
  {
   "cell_type": "markdown",
   "id": "c57370d1",
   "metadata": {},
   "source": [
    "### Primeira String\n"
   ]
  },
  {
   "cell_type": "code",
   "execution_count": 6,
   "id": "4977e626",
   "metadata": {},
   "outputs": [],
   "source": [
    "texto = 'Anderson'\n",
    "print = (texto)"
   ]
  },
  {
   "cell_type": "markdown",
   "id": "bb631e6a",
   "metadata": {},
   "source": [
    "### Indice dentro da string"
   ]
  },
  {
   "cell_type": "code",
   "execution_count": 1,
   "id": "8bc89094",
   "metadata": {},
   "outputs": [
    {
     "name": "stdout",
     "output_type": "stream",
     "text": [
      "8\n",
      "18\n",
      "A\n",
      "n\n",
      "d\n",
      "e\n",
      "r\n",
      "s\n",
      "o\n",
      "n\n"
     ]
    }
   ],
   "source": [
    "email = \"anderson@gmail.com\"  \n",
    "nome = \"Anderson\"\n",
    "\n",
    "print(len(nome))   # 8 caracteres\n",
    "print(len(email))  # 18 caracteres\n",
    "\n",
    "texto = \"Anderson\"\n",
    "print(texto[0])\n",
    "print(texto[1])\n",
    "print(texto[2])\n",
    "print(texto[3])\n",
    "print(texto[4])\n",
    "print(texto[5])\n",
    "print(texto[6])\n",
    "print(texto[7])   # Anderson"
   ]
  },
  {
   "cell_type": "code",
   "execution_count": 17,
   "id": "f3bc4dd4",
   "metadata": {},
   "outputs": [
    {
     "name": "stdout",
     "output_type": "stream",
     "text": [
      "a\n",
      "A\n"
     ]
    }
   ],
   "source": [
    "email = \"anderson@gmail.com\"  \n",
    "nome = \"Anderson\"\n",
    "\n",
    "\n",
    "\n",
    "print(email[0])   # a\n",
    "print(nome[0])    # A"
   ]
  },
  {
   "cell_type": "code",
   "execution_count": 42,
   "id": "e38a6b29",
   "metadata": {},
   "outputs": [
    {
     "name": "stdout",
     "output_type": "stream",
     "text": [
      "c\n",
      "l\n",
      "gmail.com\n",
      "anderson@\n",
      "son\n"
     ]
    }
   ],
   "source": [
    "email = 'anderson@gmail.com'\n",
    "nome = 'Anderson Gouveia Lignelli'\n",
    "\n",
    "print(email[-3]) \n",
    "print(nome[-3])\n",
    "print(email[9:]) \n",
    "print(email[:-9])  \n",
    "print(email[5:8])"
   ]
  },
  {
   "cell_type": "code",
   "execution_count": 47,
   "id": "90edfb06",
   "metadata": {},
   "outputs": [
    {
     "name": "stdout",
     "output_type": "stream",
     "text": [
      "Tamanho do e-mail: 18 caracteres\n",
      "Primeiro Caractere: a\n",
      "Ultimo Caractere: m\n",
      "Servidor do email: gmail.com\n"
     ]
    }
   ],
   "source": [
    "\n",
    "print('Tamanho do e-mail: '+ str(len(email)) + ' caracteres')\n",
    "print('Primeiro Caractere: ' + email[0])\n",
    "print('Ultimo Caractere: ' + email[-1])\n",
    "print('Servidor do email: ' + email[9:])"
   ]
  },
  {
   "cell_type": "code",
   "execution_count": null,
   "id": "7bee11c1",
   "metadata": {},
   "outputs": [],
   "source": []
  },
  {
   "cell_type": "code",
   "execution_count": null,
   "id": "9245b00e",
   "metadata": {},
   "outputs": [],
   "source": []
  }
 ],
 "metadata": {
  "kernelspec": {
   "display_name": ".venv",
   "language": "python",
   "name": "python3"
  },
  "language_info": {
   "codemirror_mode": {
    "name": "ipython",
    "version": 3
   },
   "file_extension": ".py",
   "mimetype": "text/x-python",
   "name": "python",
   "nbconvert_exporter": "python",
   "pygments_lexer": "ipython3",
   "version": "3.13.3"
  }
 },
 "nbformat": 4,
 "nbformat_minor": 5
}
