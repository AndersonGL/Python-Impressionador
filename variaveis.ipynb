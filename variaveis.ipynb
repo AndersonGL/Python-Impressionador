{
 "cells": [
  {
   "cell_type": "markdown",
   "id": "5daf50f7",
   "metadata": {},
   "source": [
    "# Variaveis\n"
   ]
  },
  {
   "cell_type": "code",
   "execution_count": 1,
   "id": "c1721a0d",
   "metadata": {},
   "outputs": [
    {
     "name": "stdout",
     "output_type": "stream",
     "text": [
      "1000\n"
     ]
    }
   ],
   "source": [
    "faruramento = 1000\n",
    "print(faruramento)"
   ]
  },
  {
   "cell_type": "code",
   "execution_count": 6,
   "id": "4937da60",
   "metadata": {},
   "outputs": [
    {
     "name": "stdout",
     "output_type": "stream",
     "text": [
      "500\n",
      "300\n"
     ]
    }
   ],
   "source": [
    "faturamento = 1000\n",
    "custo = 500\n",
    "\n",
    "lucro = faturamento - custo\n",
    "print(lucro)\n",
    "\n",
    "custo = 700\n",
    "\n",
    "lucro = faturamento - custo\n",
    "print(lucro)"
   ]
  },
  {
   "cell_type": "markdown",
   "id": "a05e4ea1",
   "metadata": {},
   "source": [
    "### Tipos de Variáveis em Python \n",
    "\n",
    "Uma variável é um objeto, afinal tudo é um objeto em Python\n",
    "\n",
    "int - inteiro<br>\n",
    "string - texto <br>\n",
    "float - números com casas decimais(ponto flutuante)<br>\n",
    "bool ou  boolean -> True e False<br>\n",
    "\n",
    "Obs: Variáveis em Pyton não são declaradas explicitamente, mas isso nmão significa que você não significa que você deve ficar mudadando o tempo todo<br>\n",
    "Obs2: Cuidado com os nomes restritos(arquivo para Download)"
   ]
  },
  {
   "cell_type": "code",
   "execution_count": 7,
   "id": "88c325d0",
   "metadata": {},
   "outputs": [
    {
     "data": {
      "text/plain": [
       "int"
      ]
     },
     "execution_count": 7,
     "metadata": {},
     "output_type": "execute_result"
    }
   ],
   "source": [
    "faturamento = 1000\n",
    "type(faturamento)"
   ]
  },
  {
   "cell_type": "code",
   "execution_count": 8,
   "id": "e867ddfc",
   "metadata": {},
   "outputs": [
    {
     "data": {
      "text/plain": [
       "float"
      ]
     },
     "execution_count": 8,
     "metadata": {},
     "output_type": "execute_result"
    }
   ],
   "source": [
    "faturamento = 1000.00\n",
    "type(faturamento)"
   ]
  },
  {
   "cell_type": "code",
   "execution_count": 9,
   "id": "96090a67",
   "metadata": {},
   "outputs": [
    {
     "data": {
      "text/plain": [
       "str"
      ]
     },
     "execution_count": 9,
     "metadata": {},
     "output_type": "execute_result"
    }
   ],
   "source": [
    "faturamento = '1000'\n",
    "type(faturamento)"
   ]
  },
  {
   "cell_type": "code",
   "execution_count": 10,
   "id": "a1615b78",
   "metadata": {},
   "outputs": [
    {
     "data": {
      "text/plain": [
       "bool"
      ]
     },
     "execution_count": 10,
     "metadata": {},
     "output_type": "execute_result"
    }
   ],
   "source": [
    "ganha_bonus = True\n",
    "type(ganha_bonus)"
   ]
  },
  {
   "cell_type": "markdown",
   "id": "8c1dc30d",
   "metadata": {},
   "source": [
    "### Concatenando texto"
   ]
  },
  {
   "cell_type": "code",
   "execution_count": null,
   "id": "47015c5c",
   "metadata": {},
   "outputs": [],
   "source": [
    "faturamento = 1500\n",
    "custo = 500\n",
    "lucro = faturamento - custo\n",
    "\n",
    "\n",
    "\n",
    "print('o faturamento da loja foi' + str(faturamento))\n",
    "print('o custo da loja foi ' + str(custo))\n",
    "print('Assim o lucro da loja foi de ' + str(lucro) 'de reais')"
   ]
  },
  {
   "cell_type": "markdown",
   "id": "1389dc32",
   "metadata": {},
   "source": [
    "###  Metodo Format"
   ]
  },
  {
   "cell_type": "code",
   "execution_count": null,
   "id": "6fb254a3",
   "metadata": {},
   "outputs": [],
   "source": [
    "faturamento = 2000\n",
    "custo = 500\n",
    "lucro = faturamento - custo\n",
    "print('o faturamento da loja foi {}. o custo da loja foi {}. Assim o lucro da loja foi{}'.format(faturamento, custo, lucro))\n"
   ]
  },
  {
   "cell_type": "markdown",
   "id": "567a71f1",
   "metadata": {},
   "source": [
    "### F-String"
   ]
  },
  {
   "cell_type": "code",
   "execution_count": null,
   "id": "e36abad9",
   "metadata": {},
   "outputs": [],
   "source": [
    "faturamento = 1000\n",
    "custo = 400\n",
    "lucro = faturamento - custo\n",
    "\n",
    "# Com Format\n",
    "\n",
    "print('o faturamento da loja foi {} e o lucro de {}'.format(faturamento, lucro))\n",
    "\n",
    "\n",
    "# Com F-String\n",
    "\n",
    "print(f\"o faturamento da loja foi {faturamento} e o lucro de {lucro}\")"
   ]
  },
  {
   "cell_type": "markdown",
   "id": "5c2f6d6d",
   "metadata": {},
   "source": [
    "### Mundanças de tipo de Variaveis"
   ]
  },
  {
   "cell_type": "code",
   "execution_count": null,
   "id": "417a658e",
   "metadata": {},
   "outputs": [],
   "source": []
  }
 ],
 "metadata": {
  "kernelspec": {
   "display_name": ".venv",
   "language": "python",
   "name": "python3"
  },
  "language_info": {
   "codemirror_mode": {
    "name": "ipython",
    "version": 3
   },
   "file_extension": ".py",
   "mimetype": "text/x-python",
   "name": "python",
   "nbconvert_exporter": "python",
   "pygments_lexer": "ipython3",
   "version": "3.13.3"
  }
 },
 "nbformat": 4,
 "nbformat_minor": 5
}
