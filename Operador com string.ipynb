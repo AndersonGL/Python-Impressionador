faturamento = 1000
custo = 500
lucro = faturamento - custo

"""Uso do str() e do concatenar com +"""

print ('O faturamento da loja foi de: ' + faturamento)

"""Uso do Format"""

print('O faturamento foi de: ')

"""Uso do %s e %d"""

print ('O faturamento foi de: ')

"""Uso do in (mais exercícios práticos nas próximas aulas)"""

print('@' in 'lira@gmail.com')
print('@' in 'lira.gmail.com')