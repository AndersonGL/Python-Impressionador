{
 "cells": [
  {
   "cell_type": "code",
   "execution_count": 1,
   "id": "0dc4ab43",
   "metadata": {},
   "outputs": [
    {
     "name": "stdout",
     "output_type": "stream",
     "text": [
      "Hello, World!\n"
     ]
    }
   ],
   "source": [
    "print(\"Hello, World!\")  # It prints \"Hello, World!\" to the console."
   ]
  },
  {
   "cell_type": "code",
   "execution_count": 2,
   "id": "f35744a0",
   "metadata": {},
   "outputs": [
    {
     "name": "stdout",
     "output_type": "stream",
     "text": [
      "10\n"
     ]
    }
   ],
   "source": [
    "soma = 5 + 5 \n",
    "print(soma)  # It prints the value of soma, which is 10."
   ]
  },
  {
   "cell_type": "code",
   "execution_count": null,
   "id": "6873d9f5",
   "metadata": {},
   "outputs": [
    {
     "name": "stdout",
     "output_type": "stream",
     "text": [
      "7\n"
     ]
    }
   ],
   "source": [
    "  \n",
    "def somar_numeros(a, b):\n",
    "    return a + b  \n",
    "print(somar_numeros(3, 4))  # It prints the result of the function, which is 7."
   ]
  }
 ],
 "metadata": {
  "kernelspec": {
   "display_name": ".venv",
   "language": "python",
   "name": "python3"
  },
  "language_info": {
   "codemirror_mode": {
    "name": "ipython",
    "version": 3
   },
   "file_extension": ".py",
   "mimetype": "text/x-python",
   "name": "python",
   "nbconvert_exporter": "python",
   "pygments_lexer": "ipython3",
   "version": "3.13.3"
  }
 },
 "nbformat": 4,
 "nbformat_minor": 5
}
