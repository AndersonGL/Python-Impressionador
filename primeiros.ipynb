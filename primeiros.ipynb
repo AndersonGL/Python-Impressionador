{
 "cells": [
  {
   "cell_type": "markdown",
   "id": "f308ef2c",
   "metadata": {},
   "source": [
    "Primeiro Código \"Olá Mundo\""
   ]
  },
  {
   "cell_type": "code",
   "execution_count": 52,
   "id": "0dc4ab43",
   "metadata": {},
   "outputs": [
    {
     "name": "stdout",
     "output_type": "stream",
     "text": [
      "Hello, World!\n"
     ]
    }
   ],
   "source": [
    "print(\"Hello, World!\")  # It prints \"Hello, World!\" to the console."
   ]
  },
  {
   "cell_type": "markdown",
   "id": "8d4addbb",
   "metadata": {},
   "source": [
    "\n",
    "Operações Matematicas"
   ]
  },
  {
   "cell_type": "code",
   "execution_count": 53,
   "id": "5dea938d",
   "metadata": {},
   "outputs": [
    {
     "name": "stdout",
     "output_type": "stream",
     "text": [
      "10\n"
     ]
    }
   ],
   "source": [
    "soma = 5 + 5 \n",
    "print(soma)  # It prints the value of soma, which is 10."
   ]
  },
  {
   "cell_type": "code",
   "execution_count": 54,
   "id": "45306501",
   "metadata": {},
   "outputs": [
    {
     "name": "stdout",
     "output_type": "stream",
     "text": [
      "5\n"
     ]
    }
   ],
   "source": [
    "subtracao = 10 - 5\n",
    "print(subtracao)  # It prints the value of subtracao, which is"
   ]
  },
  {
   "cell_type": "code",
   "execution_count": 55,
   "id": "49b7a7b4",
   "metadata": {},
   "outputs": [
    {
     "name": "stdout",
     "output_type": "stream",
     "text": [
      "5.0\n"
     ]
    }
   ],
   "source": [
    "divisapor = 10 / 2\n",
    "print(divisapor)  # It prints the value of divisapor, which is 5."
   ]
  },
  {
   "cell_type": "code",
   "execution_count": 56,
   "id": "b10a57e0",
   "metadata": {},
   "outputs": [
    {
     "name": "stdout",
     "output_type": "stream",
     "text": [
      "20\n"
     ]
    }
   ],
   "source": [
    "mutiplicacao = 10 * 2\n",
    "print(mutiplicacao)  # It prints the value of mutiplicacao, which is 20."
   ]
  },
  {
   "cell_type": "code",
   "execution_count": 57,
   "id": "2358997f",
   "metadata": {},
   "outputs": [
    {
     "name": "stdout",
     "output_type": "stream",
     "text": [
      "8\n"
     ]
    }
   ],
   "source": [
    "potencia = 2 ** 3\n",
    "print(potencia)  # It prints the value of potencia, which is 8."
   ]
  },
  {
   "cell_type": "code",
   "execution_count": 58,
   "id": "b42bd100",
   "metadata": {},
   "outputs": [
    {
     "name": "stdout",
     "output_type": "stream",
     "text": [
      "1\n"
     ]
    }
   ],
   "source": [
    "restodivisao = 10 % 3\n",
    "print(restodivisao)  # It prints the value of restodivisao"
   ]
  },
  {
   "cell_type": "code",
   "execution_count": 59,
   "id": "94de595d",
   "metadata": {},
   "outputs": [
    {
     "name": "stdout",
     "output_type": "stream",
     "text": [
      "6\n",
      "5\n"
     ]
    }
   ],
   "source": [
    "print ((1 + 2) * 2)  # soma primeiro e depois multiplica, resultado 6\n",
    "print (1 + 2 * 2)  # multiplica primeiro e depois soma, resultado 5"
   ]
  },
  {
   "cell_type": "markdown",
   "id": "eb97e050",
   "metadata": {},
   "source": [
    "String dentro do Python\n"
   ]
  },
  {
   "cell_type": "code",
   "execution_count": 60,
   "id": "9a1d8326",
   "metadata": {},
   "outputs": [
    {
     "name": "stdout",
     "output_type": "stream",
     "text": [
      "meu nome é Anderson\n"
     ]
    }
   ],
   "source": [
    "print('meu nome é ' + 'Anderson')  # It prints the string  'meu nome é Anderson'  Concatenando duas strings"
   ]
  },
  {
   "cell_type": "code",
   "execution_count": 61,
   "id": "19021e2d",
   "metadata": {},
   "outputs": [
    {
     "name": "stdout",
     "output_type": "stream",
     "text": [
      "False\n"
     ]
    }
   ],
   "source": [
    "print ('meu nome é' in 'Anderson')  # false Case Sensitive Faz a diferença entre maiculo e minusculo e também se a string está contida na outra."
   ]
  },
  {
   "cell_type": "markdown",
   "id": "9413f694",
   "metadata": {},
   "source": [
    "Variáveis dentro do Python"
   ]
  },
  {
   "cell_type": "code",
   "execution_count": 62,
   "id": "27aa8beb",
   "metadata": {},
   "outputs": [
    {
     "name": "stdout",
     "output_type": "stream",
     "text": [
      "1500\n",
      "Anderson\n"
     ]
    }
   ],
   "source": [
    "qt_vendas = 1500\n",
    "nome = 'Anderson'\n",
    "print(qt_vendas)  # It prints the value of qt_vendas, which is 1500.\n",
    "print(nome)  # It prints the value of nome, which is 'Anderson'."
   ]
  },
  {
   "cell_type": "markdown",
   "id": "409eae89",
   "metadata": {},
   "source": [
    "Erros de Variáveis"
   ]
  },
  {
   "cell_type": "code",
   "execution_count": 63,
   "id": "d2975f48",
   "metadata": {},
   "outputs": [],
   "source": [
    "faturamento = 150\n",
    "custo = 60"
   ]
  },
  {
   "cell_type": "code",
   "execution_count": 64,
   "id": "ba4551e6",
   "metadata": {},
   "outputs": [
    {
     "name": "stdout",
     "output_type": "stream",
     "text": [
      "90\n"
     ]
    }
   ],
   "source": [
    "lucro = faturamento - custo\n",
    "print(lucro)  # It prints the value of lucro, which is 90."
   ]
  },
  {
   "cell_type": "markdown",
   "id": "da189975",
   "metadata": {},
   "source": [
    "Pegando Informações do usuário com Input"
   ]
  },
  {
   "cell_type": "code",
   "execution_count": 65,
   "id": "e2fdd218",
   "metadata": {},
   "outputs": [
    {
     "name": "stdout",
     "output_type": "stream",
     "text": [
      "Olá, Anderson!\n"
     ]
    }
   ],
   "source": [
    "nome = input('Qual é o seu nome? ')\n",
    "print('Olá, ' + nome + '!')  # It prints a greeting with the user's name."
   ]
  },
  {
   "cell_type": "code",
   "execution_count": 66,
   "id": "7f120488",
   "metadata": {},
   "outputs": [
    {
     "name": "stdout",
     "output_type": "stream",
     "text": [
      "Olá, Anderson!\n",
      "Olá, Anderson Gouveia Lignelli!\n"
     ]
    }
   ],
   "source": [
    "nome = input('Qual é o seu nome? ')\n",
    "print('Olá, ' + nome + '!')  # It prints a greeting with the user's name.\n",
    "\n",
    "sobrenome = input('Qual é o seu sobrenome? ')\n",
    "print('Olá, ' + nome + ' ' + sobrenome + '!')  # It prints a greeting with the user's full name."
   ]
  }
 ],
 "metadata": {
  "kernelspec": {
   "display_name": "Python 3",
   "language": "python",
   "name": "python3"
  },
  "language_info": {
   "codemirror_mode": {
    "name": "ipython",
    "version": 3
   },
   "file_extension": ".py",
   "mimetype": "text/x-python",
   "name": "python",
   "nbconvert_exporter": "python",
   "pygments_lexer": "ipython3",
   "version": "3.13.3"
  }
 },
 "nbformat": 4,
 "nbformat_minor": 5
}
